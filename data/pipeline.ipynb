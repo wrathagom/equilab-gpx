{
 "cells": [
  {
   "cell_type": "markdown",
   "id": "17c232e4-e6a1-4245-8e35-2c1ce227e713",
   "metadata": {},
   "source": [
    "# Pipeline\n",
    "\n",
    "This notebook executes the [Transform notebook](<./01 - transform.ipynb>) followed by the [Load Elastic notebook](<./02 - load-elastic.ipynb>). It also saves a copy of both notebooks into the `history` folder.\n",
    "\n",
    "## Imports\n",
    "\n",
    "All of my notebooks, even the scheduling ones, start with imports!"
   ]
  },
  {
   "cell_type": "code",
   "execution_count": 1,
   "id": "e91a33b4-64ce-4375-9833-3c0a1e363428",
   "metadata": {
    "tags": []
   },
   "outputs": [],
   "source": [
    "from datetime import datetime as dt\n",
    "import papermill as pm\n",
    "import os\n"
   ]
  },
  {
   "cell_type": "markdown",
   "id": "d20145aa-4695-4aaf-bec7-00b171efd248",
   "metadata": {},
   "source": [
    "## Setup\n",
    "\n",
    "Imports are followed by setup. In this case we'll define the date and time of this execution and make sure that the history output directory exists so Papermill can write to it."
   ]
  },
  {
   "cell_type": "code",
   "execution_count": 3,
   "id": "2049a49c-613d-4acc-93b5-aa58d75b668d",
   "metadata": {
    "tags": []
   },
   "outputs": [
    {
     "name": "stdout",
     "output_type": "stream",
     "text": [
      "Could not create output directory ./history/20231123/, maybe it already exists?\n"
     ]
    }
   ],
   "source": [
    "executionDate = dt.now().strftime(\"%Y%m%d\")\n",
    "executionTime = dt.now().strftime(\"%H%M%S\")\n",
    "\n",
    "executionDir = \"./history/{}\".format(executionDate)\n",
    "\n",
    "try:\n",
    "    os.makedirs(executionDir)\n",
    "    print('Successfully create output directory {}/'.format(executionDir))\n",
    "except:\n",
    "    print('Could not create output directory {}/, maybe it already exists?'.format(executionDir))\n",
    "\n"
   ]
  },
  {
   "cell_type": "markdown",
   "id": "1208d544-502e-4707-9edf-f25131dcdb90",
   "metadata": {},
   "source": [
    "## Step 1: Run Transform Notebook\n",
    "\n",
    "This project is a little bit different, normally the pipeline would start with an Extract Notebook, but in this case extraction is handled elsewhere. So we start with a transform notebook, which loads the data from Digital Ocean Spaces, then processes it, and saves the processed data back to DO Spaces."
   ]
  },
  {
   "cell_type": "code",
   "execution_count": 6,
   "id": "d03e8f4e-f314-4186-a70a-c362f0b074af",
   "metadata": {
    "tags": []
   },
   "outputs": [
    {
     "data": {
      "application/vnd.jupyter.widget-view+json": {
       "model_id": "6da573a67b63440da36387516051c8af",
       "version_major": 2,
       "version_minor": 0
      },
      "text/plain": [
       "Executing:   0%|          | 0/20 [00:00<?, ?cell/s]"
      ]
     },
     "metadata": {},
     "output_type": "display_data"
    },
    {
     "name": "stderr",
     "output_type": "stream",
     "text": [
      "0.00s - Debugger warning: It seems that frozen modules are being used, which may\n",
      "0.00s - make the debugger miss breakpoints. Please pass -Xfrozen_modules=off\n",
      "0.00s - to python to disable frozen modules.\n",
      "0.00s - Note: Debugging will proceed. Set PYDEVD_DISABLE_FILE_VALIDATION=1 to disable this validation.\n"
     ]
    },
    {
     "name": "stdout",
     "output_type": "stream",
     "text": [
      "Notebook successfully executed in 0.00602 seconds.\n"
     ]
    }
   ],
   "source": [
    "results = pm.execute_notebook(\n",
    "   './notebooks/01 - transform.ipynb',\n",
    "   './history/{}/{}-transform-output.ipynb'.format(executionDate, executionTime),\n",
    "    cwd='./notebooks/'\n",
    ")\n",
    "\n",
    "print('Notebook successfully executed in {} seconds.'.format(results['cells'][0]['metadata']['papermill']['duration']))\n"
   ]
  },
  {
   "cell_type": "markdown",
   "id": "997f0c60-a7fc-4a85-852f-56e5a3d83228",
   "metadata": {},
   "source": [
    "## Step 2: Run the Load Elastic Notebook\n",
    "\n",
    "Now it's time to take any data processed in step 1, and load it into Elastic."
   ]
  },
  {
   "cell_type": "code",
   "execution_count": 9,
   "id": "814a55ad-fde4-4060-9445-ecf6d90d7fa7",
   "metadata": {
    "tags": []
   },
   "outputs": [
    {
     "data": {
      "application/vnd.jupyter.widget-view+json": {
       "model_id": "0e3de131804f44dca5dc6001d7d43ce6",
       "version_major": 2,
       "version_minor": 0
      },
      "text/plain": [
       "Executing:   0%|          | 0/12 [00:00<?, ?cell/s]"
      ]
     },
     "metadata": {},
     "output_type": "display_data"
    },
    {
     "name": "stderr",
     "output_type": "stream",
     "text": [
      "0.00s - Debugger warning: It seems that frozen modules are being used, which may\n",
      "0.00s - make the debugger miss breakpoints. Please pass -Xfrozen_modules=off\n",
      "0.00s - to python to disable frozen modules.\n",
      "0.00s - Note: Debugging will proceed. Set PYDEVD_DISABLE_FILE_VALIDATION=1 to disable this validation.\n"
     ]
    },
    {
     "name": "stdout",
     "output_type": "stream",
     "text": [
      "Notebook successfully executed in 0.003196 seconds.\n"
     ]
    }
   ],
   "source": [
    "results = pm.execute_notebook(\n",
    "   './notebooks/02 - load-elastic.ipynb',\n",
    "   './history/{}/{}-load-elastic-output.ipynb'.format(executionDate, executionTime),\n",
    "    cwd='./notebooks/'\n",
    ")\n",
    "\n",
    "print('Notebook successfully executed in {} seconds.'.format(results['cells'][0]['metadata']['papermill']['duration']))\n"
   ]
  },
  {
   "cell_type": "code",
   "execution_count": null,
   "id": "d40092f6-c962-4a9b-9800-c8831e5c6a6b",
   "metadata": {},
   "outputs": [],
   "source": []
  }
 ],
 "metadata": {
  "kernelspec": {
   "display_name": "Python 3 (ipykernel)",
   "language": "python",
   "name": "python3"
  },
  "language_info": {
   "codemirror_mode": {
    "name": "ipython",
    "version": 3
   },
   "file_extension": ".py",
   "mimetype": "text/x-python",
   "name": "python",
   "nbconvert_exporter": "python",
   "pygments_lexer": "ipython3",
   "version": "3.11.6"
  }
 },
 "nbformat": 4,
 "nbformat_minor": 5
}
