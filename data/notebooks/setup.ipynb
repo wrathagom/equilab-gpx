{
 "cells": [
  {
   "cell_type": "code",
   "execution_count": 1,
   "id": "fe65e395-9aab-4160-b866-652e6358df80",
   "metadata": {
    "tags": []
   },
   "outputs": [],
   "source": [
    "import elasticsearch"
   ]
  },
  {
   "cell_type": "markdown",
   "id": "5b4ba336-325b-4493-819b-145c9875d25f",
   "metadata": {},
   "source": [
    "For the Indexing in Elastic to work correctly there is some setup that needs to be done first:"
   ]
  },
  {
   "cell_type": "code",
   "execution_count": null,
   "id": "30e0680c-7a20-4d3e-91d8-52d70d854e43",
   "metadata": {},
   "outputs": [],
   "source": []
  }
 ],
 "metadata": {
  "kernelspec": {
   "display_name": "Python 3 (ipykernel)",
   "language": "python",
   "name": "python3"
  },
  "language_info": {
   "codemirror_mode": {
    "name": "ipython",
    "version": 3
   },
   "file_extension": ".py",
   "mimetype": "text/x-python",
   "name": "python",
   "nbconvert_exporter": "python",
   "pygments_lexer": "ipython3",
   "version": "3.11.6"
  }
 },
 "nbformat": 4,
 "nbformat_minor": 5
}
