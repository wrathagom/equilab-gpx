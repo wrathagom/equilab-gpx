{
 "cells": [
  {
   "cell_type": "code",
   "execution_count": 2,
   "id": "8416d744-e8a4-4903-a8ef-f3d12d7ebf01",
   "metadata": {
    "tags": []
   },
   "outputs": [
    {
     "name": "stdout",
     "output_type": "stream",
     "text": [
      "Collecting elasticsearch\n",
      "  Downloading elasticsearch-8.10.1-py3-none-any.whl.metadata (5.1 kB)\n",
      "Collecting elastic-transport<9,>=8 (from elasticsearch)\n",
      "  Downloading elastic_transport-8.4.1-py3-none-any.whl.metadata (3.5 kB)\n",
      "Collecting urllib3<2,>=1.26.2 (from elastic-transport<9,>=8->elasticsearch)\n",
      "  Downloading urllib3-1.26.18-py2.py3-none-any.whl.metadata (48 kB)\n",
      "\u001b[2K     \u001b[90m━━━━━━━━━━━━━━━━━━━━━━━━━━━━━━━━━━━━━━━\u001b[0m \u001b[32m48.9/48.9 kB\u001b[0m \u001b[31m842.9 kB/s\u001b[0m eta \u001b[36m0:00:00\u001b[0m \u001b[36m0:00:01\u001b[0m\n",
      "\u001b[?25hRequirement already satisfied: certifi in /opt/conda/lib/python3.11/site-packages (from elastic-transport<9,>=8->elasticsearch) (2023.7.22)\n",
      "Downloading elasticsearch-8.10.1-py3-none-any.whl (409 kB)\n",
      "\u001b[2K   \u001b[90m━━━━━━━━━━━━━━━━━━━━━━━━━━━━━━━━━━━━━━━━\u001b[0m \u001b[32m409.3/409.3 kB\u001b[0m \u001b[31m2.2 MB/s\u001b[0m eta \u001b[36m0:00:00\u001b[0m00:01\u001b[0m00:01\u001b[0m\n",
      "\u001b[?25hDownloading elastic_transport-8.4.1-py3-none-any.whl (59 kB)\n",
      "\u001b[2K   \u001b[90m━━━━━━━━━━━━━━━━━━━━━━━━━━━━━━━━━━━━━━━━\u001b[0m \u001b[32m59.5/59.5 kB\u001b[0m \u001b[31m3.0 MB/s\u001b[0m eta \u001b[36m0:00:00\u001b[0m\n",
      "\u001b[?25hDownloading urllib3-1.26.18-py2.py3-none-any.whl (143 kB)\n",
      "\u001b[2K   \u001b[90m━━━━━━━━━━━━━━━━━━━━━━━━━━━━━━━━━━━━━━━━\u001b[0m \u001b[32m143.8/143.8 kB\u001b[0m \u001b[31m6.1 MB/s\u001b[0m eta \u001b[36m0:00:00\u001b[0m\n",
      "\u001b[?25hInstalling collected packages: urllib3, elastic-transport, elasticsearch\n",
      "  Attempting uninstall: urllib3\n",
      "    Found existing installation: urllib3 2.0.7\n",
      "    Uninstalling urllib3-2.0.7:\n",
      "      Successfully uninstalled urllib3-2.0.7\n",
      "Successfully installed elastic-transport-8.4.1 elasticsearch-8.10.1 urllib3-1.26.18\n"
     ]
    }
   ],
   "source": [
    "!pip install elasticsearch"
   ]
  },
  {
   "cell_type": "code",
   "execution_count": 30,
   "id": "bc8ace70-68e0-4aad-91b7-5e23e11696f1",
   "metadata": {
    "tags": []
   },
   "outputs": [
    {
     "name": "stdout",
     "output_type": "stream",
     "text": [
      "Collecting randomname\n",
      "  Downloading randomname-0.2.1.tar.gz (64 kB)\n",
      "\u001b[2K     \u001b[90m━━━━━━━━━━━━━━━━━━━━━━━━━━━━━━━━━━━━━━━\u001b[0m \u001b[32m64.2/64.2 kB\u001b[0m \u001b[31m862.0 kB/s\u001b[0m eta \u001b[36m0:00:00\u001b[0m \u001b[36m0:00:01\u001b[0m\n",
      "\u001b[?25h  Preparing metadata (setup.py) ... \u001b[?25ldone\n",
      "\u001b[?25hCollecting fire (from randomname)\n",
      "  Downloading fire-0.5.0.tar.gz (88 kB)\n",
      "\u001b[2K     \u001b[90m━━━━━━━━━━━━━━━━━━━━━━━━━━━━━━━━━━━━━━━━\u001b[0m \u001b[32m88.3/88.3 kB\u001b[0m \u001b[31m1.5 MB/s\u001b[0m eta \u001b[36m0:00:00\u001b[0ma \u001b[36m0:00:01\u001b[0m\n",
      "\u001b[?25h  Preparing metadata (setup.py) ... \u001b[?25ldone\n",
      "\u001b[?25hRequirement already satisfied: six in /opt/conda/lib/python3.11/site-packages (from fire->randomname) (1.16.0)\n",
      "Collecting termcolor (from fire->randomname)\n",
      "  Downloading termcolor-2.3.0-py3-none-any.whl (6.9 kB)\n",
      "Building wheels for collected packages: randomname, fire\n",
      "  Building wheel for randomname (setup.py) ... \u001b[?25ldone\n",
      "\u001b[?25h  Created wheel for randomname: filename=randomname-0.2.1-py3-none-any.whl size=89194 sha256=ca5ab9340ccf86e01eb2c8437882f3ea6fb8c6f026a7da9d37473f1bdb288573\n",
      "  Stored in directory: /home/jovyan/.cache/pip/wheels/99/b3/ae/c137ed34d7c385b74ae440b4f008183264ebe466ea0341db09\n",
      "  Building wheel for fire (setup.py) ... \u001b[?25ldone\n",
      "\u001b[?25h  Created wheel for fire: filename=fire-0.5.0-py2.py3-none-any.whl size=116934 sha256=83c11bb9db3aa5aeb8a20765997326d012f76c8d9dcc7ca647172f1eff86e79e\n",
      "  Stored in directory: /home/jovyan/.cache/pip/wheels/a7/ee/a5/19e91481be8bea594935d137578bfe77d6bf905e4595336f6b\n",
      "Successfully built randomname fire\n",
      "Installing collected packages: termcolor, fire, randomname\n",
      "Successfully installed fire-0.5.0 randomname-0.2.1 termcolor-2.3.0\n"
     ]
    }
   ],
   "source": [
    "!pip install randomname"
   ]
  },
  {
   "cell_type": "code",
   "execution_count": 38,
   "id": "bcd90d07-c862-4dda-821a-36482f011ba5",
   "metadata": {
    "tags": []
   },
   "outputs": [],
   "source": [
    "from elasticsearch import Elasticsearch, helpers\n",
    "import yaml\n",
    "import json\n",
    "import bucketstore\n",
    "import randomname\n"
   ]
  },
  {
   "cell_type": "code",
   "execution_count": 39,
   "id": "90c3bec6-5153-4317-9936-02edd5024d10",
   "metadata": {
    "tags": []
   },
   "outputs": [],
   "source": [
    "with open(\"secrets.yml\", 'r') as ymlfile:\n",
    "    cfg = yaml.safe_load(ymlfile)\n",
    "\n",
    "bucketstore.login(\n",
    "    access_key_id=cfg['spaces']['access'],\n",
    "    secret_access_key=cfg['spaces']['secret'],\n",
    "    region='nyc3',\n",
    "    endpoint_url=cfg['spaces']['url']\n",
    ")\n",
    "bucket = bucketstore.get('wrathalake')\n",
    "\n",
    "elastic = Elasticsearch(\n",
    "    cloud_id=cfg['elastic']['cloudId'],\n",
    "    api_key=(cfg['elastic']['apiKey'])\n",
    ")\n",
    "\n",
    "ridesKey = 'intermediate/rides.json'\n"
   ]
  },
  {
   "cell_type": "code",
   "execution_count": 40,
   "id": "c0b52b0b-0431-4a19-9b09-ec2733bb2376",
   "metadata": {
    "tags": []
   },
   "outputs": [],
   "source": [
    "rides = json.loads(bucket[ridesKey])\n"
   ]
  },
  {
   "cell_type": "code",
   "execution_count": 41,
   "id": "178749a8-84eb-4a3f-8261-238d4c956e50",
   "metadata": {
    "tags": []
   },
   "outputs": [
    {
     "name": "stdout",
     "output_type": "stream",
     "text": [
      "Need to add data for ride raw/sources/equilab/training-2023-09-09.gpx into Elastic\n",
      "\n",
      "RESPONSE: (6437, [])\n",
      "Need to add data for ride raw/sources/equilab/training-2023-09-10.gpx into Elastic\n",
      "\n",
      "RESPONSE: (6912, [])\n",
      "Need to add data for ride raw/sources/equilab/training-2023-09-23.gpx into Elastic\n",
      "\n",
      "RESPONSE: (9083, [])\n",
      "Need to add data for ride raw/sources/equilab/training-2023-10-14.gpx into Elastic\n",
      "\n",
      "RESPONSE: (14040, [])\n",
      "Need to add data for ride raw/sources/equilab/training-2023-10-22.gpx into Elastic\n",
      "\n",
      "RESPONSE: (10471, [])\n"
     ]
    }
   ],
   "source": [
    "for ride in rides.keys():\n",
    "    if rides[ride]['inElastic'] == False:\n",
    "        print(\"Need to add data for ride {} into Elastic\".format(ride))\n",
    "        \n",
    "        rideData = json.loads(bucket[rides[ride]['interFile']])\n",
    "        rideName = '{}-{}'.format(rides[ride]['rideDate'], randomname.get_name())\n",
    "        \n",
    "        elasticData = [\n",
    "            {\n",
    "                '_op_type': 'index',\n",
    "                '_index': 'equilab-rides',\n",
    "                '_source': {\n",
    "                    '@timestamp': point['time'],\n",
    "                    'rideName': rideName,\n",
    "                    'location': {\n",
    "                        'lat': point['coords']['lat'],\n",
    "                        'lon': point['coords']['long']\n",
    "                    },\n",
    "                    'elevation': point['elevation'],\n",
    "                    'timeDelta': point.get('timeDelta', None),\n",
    "                    'distance': point.get('distance', None),\n",
    "                    'speed': point.get('speed', None),\n",
    "                    'climb': point.get('climb', None),\n",
    "                    'drop': point.get('drop', None)\n",
    "                }\n",
    "            }\n",
    "            for point in rideData\n",
    "        ]\n",
    "        \n",
    "        try:\n",
    "            # make the bulk call, and get a response\n",
    "            response = helpers.bulk(elastic, elasticData)\n",
    "\n",
    "            #response = helpers.bulk(elastic, actions, index='employees', doc_type='people')\n",
    "            print (\"\\nRESPONSE:\", response)\n",
    "        except Exception as e:\n",
    "            print(\"\\nERROR:\", e)"
   ]
  },
  {
   "cell_type": "code",
   "execution_count": null,
   "id": "12502b4b-f491-4c67-ad7b-4c210b3a9bc2",
   "metadata": {},
   "outputs": [],
   "source": []
  }
 ],
 "metadata": {
  "kernelspec": {
   "display_name": "Python 3 (ipykernel)",
   "language": "python",
   "name": "python3"
  },
  "language_info": {
   "codemirror_mode": {
    "name": "ipython",
    "version": 3
   },
   "file_extension": ".py",
   "mimetype": "text/x-python",
   "name": "python",
   "nbconvert_exporter": "python",
   "pygments_lexer": "ipython3",
   "version": "3.11.6"
  }
 },
 "nbformat": 4,
 "nbformat_minor": 5
}
