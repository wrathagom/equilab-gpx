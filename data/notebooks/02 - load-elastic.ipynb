{
 "cells": [
  {
   "cell_type": "code",
   "execution_count": 1,
   "id": "bcd90d07-c862-4dda-821a-36482f011ba5",
   "metadata": {
    "tags": []
   },
   "outputs": [],
   "source": [
    "from elasticsearch import Elasticsearch, helpers\n",
    "import yaml\n",
    "import json\n",
    "import bucketstore\n",
    "import randomname\n"
   ]
  },
  {
   "cell_type": "code",
   "execution_count": 2,
   "id": "90c3bec6-5153-4317-9936-02edd5024d10",
   "metadata": {
    "tags": []
   },
   "outputs": [],
   "source": [
    "with open(\"secrets.yml\", 'r') as ymlfile:\n",
    "    cfg = yaml.safe_load(ymlfile)\n",
    "\n",
    "bucketstore.login(\n",
    "    access_key_id=cfg['spaces']['access'],\n",
    "    secret_access_key=cfg['spaces']['secret'],\n",
    "    region='nyc3',\n",
    "    endpoint_url=cfg['spaces']['url']\n",
    ")\n",
    "bucket = bucketstore.get('wrathalake')\n",
    "\n",
    "elastic = Elasticsearch(\n",
    "    cloud_id=cfg['elastic']['cloudId'],\n",
    "    api_key=(cfg['elastic']['apiKey'])\n",
    ")\n",
    "\n",
    "ridesKey = 'intermediate/rides.json'\n"
   ]
  },
  {
   "cell_type": "code",
   "execution_count": 3,
   "id": "c0b52b0b-0431-4a19-9b09-ec2733bb2376",
   "metadata": {
    "tags": []
   },
   "outputs": [],
   "source": [
    "rides = json.loads(bucket[ridesKey])\n"
   ]
  },
  {
   "cell_type": "code",
   "execution_count": 4,
   "id": "178749a8-84eb-4a3f-8261-238d4c956e50",
   "metadata": {
    "tags": []
   },
   "outputs": [
    {
     "name": "stdout",
     "output_type": "stream",
     "text": [
      "Need to add data for ride raw/sources/equilab/training-2023-09-09.gpx into Elastic\n",
      "\n",
      "RESPONSE: (6437, [])\n",
      "Need to add data for ride raw/sources/equilab/training-2023-09-10.gpx into Elastic\n",
      "\n",
      "RESPONSE: (6912, [])\n",
      "Need to add data for ride raw/sources/equilab/training-2023-09-23.gpx into Elastic\n",
      "\n",
      "RESPONSE: (9083, [])\n",
      "Need to add data for ride raw/sources/equilab/training-2023-10-14.gpx into Elastic\n",
      "\n",
      "RESPONSE: (14040, [])\n",
      "Need to add data for ride raw/sources/equilab/training-2023-10-22.gpx into Elastic\n",
      "\n",
      "RESPONSE: (10471, [])\n"
     ]
    }
   ],
   "source": [
    "for ride in rides.keys():\n",
    "    if rides[ride]['inElastic'] == False:\n",
    "        print(\"Need to add data for ride {} into Elastic\".format(ride))\n",
    "        \n",
    "        rideData = json.loads(bucket[rides[ride]['interFile']])\n",
    "        rideName = '{}-{}'.format(rides[ride]['rideDate'], randomname.get_name())\n",
    "        \n",
    "        elasticData = [\n",
    "            {\n",
    "                '_op_type': 'index',\n",
    "                '_index': 'equilab-rides',\n",
    "                '_source': {\n",
    "                    '@timestamp': point['time'],\n",
    "                    'rideName': rideName,\n",
    "                    'location': {\n",
    "                        'lat': point['coords']['lat'],\n",
    "                        'lon': point['coords']['long']\n",
    "                    },\n",
    "                    'elevation': point['elevation'],\n",
    "                    'timeDelta': point.get('timeDelta', None),\n",
    "                    'distance': point.get('distance', None),\n",
    "                    'speed': point.get('speed', None),\n",
    "                    'climb': point.get('climb', None),\n",
    "                    'drop': point.get('drop', None)\n",
    "                }\n",
    "            }\n",
    "            for point in rideData\n",
    "        ]\n",
    "        \n",
    "        try:\n",
    "            # make the bulk call, and get a response\n",
    "            response = helpers.bulk(elastic, elasticData)\n",
    "\n",
    "            #response = helpers.bulk(elastic, actions, index='employees', doc_type='people')\n",
    "            print (\"\\nRESPONSE:\", response)\n",
    "        except Exception as e:\n",
    "            print(\"\\nERROR:\", e)"
   ]
  },
  {
   "cell_type": "code",
   "execution_count": null,
   "id": "12502b4b-f491-4c67-ad7b-4c210b3a9bc2",
   "metadata": {},
   "outputs": [],
   "source": []
  }
 ],
 "metadata": {
  "kernelspec": {
   "display_name": "Python 3 (ipykernel)",
   "language": "python",
   "name": "python3"
  },
  "language_info": {
   "codemirror_mode": {
    "name": "ipython",
    "version": 3
   },
   "file_extension": ".py",
   "mimetype": "text/x-python",
   "name": "python",
   "nbconvert_exporter": "python",
   "pygments_lexer": "ipython3",
   "version": "3.11.6"
  }
 },
 "nbformat": 4,
 "nbformat_minor": 5
}
