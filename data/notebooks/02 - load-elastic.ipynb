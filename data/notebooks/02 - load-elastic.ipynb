{
 "cells": [
  {
   "cell_type": "markdown",
   "id": "8a310bf8-40eb-4bf0-a9e8-420009895c1f",
   "metadata": {},
   "source": [
    "# Load Elastic\n",
    "\n",
    "In this notebook, we're going to take the output form the [Transform Notebook](<./01 - transform.ipynb>) and load it into Elastic.\n",
    "\n",
    "As always, we start with imports:\n",
    "\n",
    "## Imports"
   ]
  },
  {
   "cell_type": "code",
   "execution_count": 13,
   "id": "bcd90d07-c862-4dda-821a-36482f011ba5",
   "metadata": {
    "tags": []
   },
   "outputs": [],
   "source": [
    "from elasticsearch import Elasticsearch, helpers\n",
    "import yaml\n",
    "import json\n",
    "import bucketstore\n",
    "import randomname\n"
   ]
  },
  {
   "cell_type": "markdown",
   "id": "f24ebcc4-6163-4ced-aeb4-3f2fbce34be9",
   "metadata": {},
   "source": [
    "## Setup\n",
    "\n",
    "With importing out of the way we'll get a few basics out of the way. The below cell:\n",
    " 1) Loads a file containing connection info to my DO Space and Elastic\n",
    " 2) Uses the connection info to connect to the space\n",
    " 3) Loads the bucket that all of the data is stored in.\n",
    " 4) Connects to Elastic\n",
    " 5) Sets some default variables"
   ]
  },
  {
   "cell_type": "code",
   "execution_count": 14,
   "id": "90c3bec6-5153-4317-9936-02edd5024d10",
   "metadata": {
    "tags": []
   },
   "outputs": [],
   "source": [
    "with open(\"secrets.yml\", 'r') as ymlfile:\n",
    "    cfg = yaml.safe_load(ymlfile)\n",
    "\n",
    "bucketstore.login(\n",
    "    access_key_id=cfg['spaces']['access'],\n",
    "    secret_access_key=cfg['spaces']['secret'],\n",
    "    region='nyc3',\n",
    "    endpoint_url=cfg['spaces']['url']\n",
    ")\n",
    "bucket = bucketstore.get('wrathalake')\n",
    "\n",
    "elastic = Elasticsearch(\n",
    "    cloud_id=cfg['elastic']['cloudId'],\n",
    "    api_key=(cfg['elastic']['apiKey'])\n",
    ")\n",
    "\n",
    "ridesKey = 'intermediate/rides.json'\n",
    "dataStream = 'equilab-rides-dev'"
   ]
  },
  {
   "cell_type": "markdown",
   "id": "d5556d7b-fd96-4e32-b076-322cd7ab3b69",
   "metadata": {},
   "source": [
    "## Functions\n",
    "\n",
    "Below we have the main processing function that takes the ride filename, grabs the data, and formats it for Elasticsearch."
   ]
  },
  {
   "cell_type": "code",
   "execution_count": 15,
   "id": "7b1eab7b-2663-41ae-84a7-03043b6c271f",
   "metadata": {
    "tags": []
   },
   "outputs": [],
   "source": [
    "def buildData(ride):\n",
    "    rideData = json.loads(bucket[ride['interFile']])\n",
    "    rideName = '{}-{}'.format(ride['rideDate'], randomname.get_name())\n",
    "\n",
    "    elasticData = [\n",
    "        {\n",
    "            '_op_type': 'create',\n",
    "            '_index': dataStream,\n",
    "            '_source': {\n",
    "                '@timestamp': point['time'],\n",
    "                'index': point['index'],\n",
    "                'rideName': rideName,\n",
    "                'location': {\n",
    "                    'lat': point['coords']['lat'],\n",
    "                    'lon': point['coords']['long']\n",
    "                },\n",
    "                'elevation': point['elevation'],\n",
    "                'timeDelta': point.get('timeDelta', None),\n",
    "                'distance': point.get('distance', None),\n",
    "                'speed': point.get('speed', None),\n",
    "                'climb': point.get('climb', None),\n",
    "                'drop': point.get('drop', None)\n",
    "            }\n",
    "        }\n",
    "        for point in rideData\n",
    "    ]\n",
    "    \n",
    "    return elasticData"
   ]
  },
  {
   "cell_type": "code",
   "execution_count": 16,
   "id": "c0b52b0b-0431-4a19-9b09-ec2733bb2376",
   "metadata": {
    "tags": []
   },
   "outputs": [],
   "source": [
    "rides = json.loads(bucket[ridesKey])\n"
   ]
  },
  {
   "cell_type": "code",
   "execution_count": 17,
   "id": "178749a8-84eb-4a3f-8261-238d4c956e50",
   "metadata": {
    "tags": []
   },
   "outputs": [
    {
     "name": "stdout",
     "output_type": "stream",
     "text": [
      "Already processed data for ride raw/sources/equilab/training-2023-09-09.gpx.\n",
      "Already processed data for ride raw/sources/equilab/training-2023-09-10.gpx.\n",
      "Already processed data for ride raw/sources/equilab/training-2023-09-23.gpx.\n",
      "Already processed data for ride raw/sources/equilab/training-2023-10-14.gpx.\n",
      "Already processed data for ride raw/sources/equilab/training-2023-10-22.gpx.\n",
      "Already processed data for ride raw/sources/equilab/training-2023-11-04.gpx.\n",
      "Already processed data for ride raw/sources/equilab/training-2023-11-05.gpx.\n",
      "Already processed data for ride raw/sources/equilab/training-2023-11-18.gpx.\n",
      "Already processed data for ride raw/sources/equilab/training-2023-11-19.gpx.\n",
      "Need to add data for ride raw/sources/equilab/training-2023-08-12.gpx into Elastic\n",
      "\n",
      "RESPONSE: (7460, [])\n",
      "Need to add data for ride raw/sources/equilab/training-2023-08-13.gpx into Elastic\n",
      "\n",
      "RESPONSE: (6180, [])\n"
     ]
    }
   ],
   "source": [
    "for ride in rides.keys():\n",
    "    if rides[ride]['inElastic'] == False:\n",
    "        print(\"Need to add data for ride {} into Elastic\".format(ride))\n",
    "        \n",
    "        elasticData = buildData(rides[ride])\n",
    "        \n",
    "        try:\n",
    "            # make the bulk call, and get a response\n",
    "            response = helpers.bulk(elastic, elasticData)\n",
    "\n",
    "            rides[ride]['inElastic'] = True\n",
    "            print (\" - RESPONSE:\", response)\n",
    "        except Exception as e:\n",
    "            print(\" - ERROR:\", e)\n",
    "    else:\n",
    "        # Uncomment the below line to print the rides that have already been processed.\n",
    "        #print(\"Already processed data for ride {}.\".format(ride))\n",
    "        pass\n",
    "\n",
    "bucket[ridesKey] = json.dumps(rides)"
   ]
  },
  {
   "cell_type": "code",
   "execution_count": 10,
   "id": "12502b4b-f491-4c67-ad7b-4c210b3a9bc2",
   "metadata": {},
   "outputs": [],
   "source": [
    "# Delete the Elasticsearch Data for re-processing\n",
    "# elastic.indices.delete(index=dataStream)\n"
   ]
  },
  {
   "cell_type": "code",
   "execution_count": 18,
   "id": "5f5787fa-3d6d-43cc-8357-3e0c4a0698ba",
   "metadata": {
    "tags": []
   },
   "outputs": [
    {
     "data": {
      "text/plain": [
       "['raw/sources/equilab/training-2023-11-05.gpx',\n",
       " 'raw/sources/equilab/training-2023-11-18.gpx',\n",
       " 'raw/sources/equilab/training-2023-11-19.gpx',\n",
       " 'raw/sources/equilab/training-2023-08-12.gpx',\n",
       " 'raw/sources/equilab/training-2023-08-13.gpx']"
      ]
     },
     "execution_count": 18,
     "metadata": {},
     "output_type": "execute_result"
    }
   ],
   "source": [
    "# Print all of the rides that have been processed\n",
    "list(rides.keys())[-5:]"
   ]
  },
  {
   "cell_type": "code",
   "execution_count": 19,
   "id": "8832a389-7e55-4232-97d1-a141ccec5c38",
   "metadata": {
    "tags": []
   },
   "outputs": [
    {
     "data": {
      "text/plain": [
       "{'rawFile': 'raw/sources/equilab/training-2023-08-13.gpx',\n",
       " 'interFile': 'intermediate/sources/equilab/training-2023-08-13.json',\n",
       " 'rideDate': '20230813',\n",
       " 'totalTime': 6250.003,\n",
       " 'totalDistance': 29337.12579091715,\n",
       " 'totalClimb': 6869.750875999966,\n",
       " 'averageSpeed': 3.200412187301101,\n",
       " 'inElastic': True}"
      ]
     },
     "execution_count": 19,
     "metadata": {},
     "output_type": "execute_result"
    }
   ],
   "source": [
    "# Print the ride details for one of the rides above, by default it shows the lastest\n",
    "rides[list(rides.keys())[-1]]"
   ]
  },
  {
   "cell_type": "code",
   "execution_count": null,
   "id": "b26e3c19-d940-4066-89e9-d87f4de4e07c",
   "metadata": {},
   "outputs": [],
   "source": []
  }
 ],
 "metadata": {
  "kernelspec": {
   "display_name": "Python 3 (ipykernel)",
   "language": "python",
   "name": "python3"
  },
  "language_info": {
   "codemirror_mode": {
    "name": "ipython",
    "version": 3
   },
   "file_extension": ".py",
   "mimetype": "text/x-python",
   "name": "python",
   "nbconvert_exporter": "python",
   "pygments_lexer": "ipython3",
   "version": "3.11.6"
  }
 },
 "nbformat": 4,
 "nbformat_minor": 5
}
