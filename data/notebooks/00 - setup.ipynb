{
 "cells": [
  {
   "cell_type": "code",
   "execution_count": 4,
   "id": "fe65e395-9aab-4160-b866-652e6358df80",
   "metadata": {
    "tags": []
   },
   "outputs": [],
   "source": [
    "from elasticsearch import Elasticsearch, helpers\n",
    "from elasticsearch.client import IlmClient, ClusterClient, IndicesClient\n",
    "import requests\n",
    "import yaml\n"
   ]
  },
  {
   "cell_type": "code",
   "execution_count": 58,
   "id": "32a85da5-ee29-424c-9594-3c2f5e671754",
   "metadata": {
    "tags": []
   },
   "outputs": [],
   "source": [
    "with open(\"secrets.yml\", 'r') as ymlfile:\n",
    "    cfg = yaml.safe_load(ymlfile)\n",
    "\n",
    "elastic = Elasticsearch(\n",
    "    cloud_id=cfg['elastic']['cloudId'],\n",
    "    api_key=(cfg['elastic']['apiKey'])\n",
    ")\n"
   ]
  },
  {
   "cell_type": "markdown",
   "id": "5b4ba336-325b-4493-819b-145c9875d25f",
   "metadata": {},
   "source": [
    "# Setup\n",
    "\n",
    "This setup is focused around creating a Time Series Data Stream to write the equilab data to. I'm following the docs [here](https://www.elastic.co/guide/en/elasticsearch/reference/current/set-up-tsds.html), in combination with the python client docs.\n",
    "\n",
    "## Creating the Index Life Cycle Policy\n",
    "For the Indexing in Elastic to work correctly there is some setup that needs to be done first. I actually created this policy in the UI and then used the `Show Request` feature in Elastic to get the JSON. That way I had the GUI goodness to help sculpt the JSON, but could still execute it in a notebook."
   ]
  },
  {
   "cell_type": "code",
   "execution_count": 17,
   "id": "30e0680c-7a20-4d3e-91d8-52d70d854e43",
   "metadata": {},
   "outputs": [],
   "source": [
    "policy = {\n",
    "    \"phases\": {\n",
    "      \"hot\": {\n",
    "        \"actions\": {\n",
    "          \"rollover\": {\n",
    "            \"max_primary_shard_size\": \"50gb\"\n",
    "          },\n",
    "          \"set_priority\": {\n",
    "            \"priority\": 100\n",
    "          },\n",
    "          \"forcemerge\": {\n",
    "            \"max_num_segments\": 1\n",
    "          },\n",
    "          \"readonly\": {}\n",
    "        },\n",
    "        \"min_age\": \"0ms\"\n",
    "      },\n",
    "      \"frozen\": {\n",
    "        \"min_age\": \"30d\",\n",
    "        \"actions\": {\n",
    "          \"searchable_snapshot\": {\n",
    "            \"snapshot_repository\": \"found-snapshots\"\n",
    "          }\n",
    "        }\n",
    "      }\n",
    "    }\n",
    "  }\n"
   ]
  },
  {
   "cell_type": "code",
   "execution_count": 18,
   "id": "a9a55733-6177-438e-8675-e208b62cc0e6",
   "metadata": {
    "tags": []
   },
   "outputs": [
    {
     "data": {
      "text/plain": [
       "ObjectApiResponse({'acknowledged': True})"
      ]
     },
     "execution_count": 18,
     "metadata": {},
     "output_type": "execute_result"
    }
   ],
   "source": [
    "IlmClient.put_lifecycle(elastic, name='equilab-dev', policy=policy)\n"
   ]
  },
  {
   "cell_type": "markdown",
   "id": "63182714-b175-4d8a-9994-ca98a445972d",
   "metadata": {},
   "source": [
    "## Mappings Component Template\n",
    "\n",
    "For TSDS there are special keys that have to be set that cannot be set from the UI, specifically the `time_series_dimension` and `time_series_metric` show below:"
   ]
  },
  {
   "cell_type": "code",
   "execution_count": 55,
   "id": "748cee95-ff7a-423a-aae1-ded224ca5936",
   "metadata": {
    "tags": []
   },
   "outputs": [],
   "source": [
    "mappings = {\n",
    "    \"mappings\": {\n",
    "      \"properties\": {\n",
    "        \"rideName\": {\n",
    "          \"type\": \"keyword\",\n",
    "          \"time_series_dimension\": True\n",
    "        },\n",
    "        \"index\": {\n",
    "            \"type\": \"integer\"\n",
    "        },\n",
    "        \"climb\": {\n",
    "          \"type\": \"float\",\n",
    "          \"time_series_metric\": \"gauge\"\n",
    "        },\n",
    "        \"distance\": {\n",
    "          \"type\": \"float\",\n",
    "          \"time_series_metric\": \"gauge\"\n",
    "        },\n",
    "        \"drop\": {\n",
    "          \"type\": \"float\",\n",
    "          \"time_series_metric\": \"gauge\"\n",
    "        },\n",
    "        \"elevation\": {\n",
    "          \"type\": \"float\",\n",
    "          \"time_series_metric\": \"gauge\"\n",
    "        },\n",
    "        \"speed\": {\n",
    "          \"type\": \"float\",\n",
    "          \"time_series_metric\": \"gauge\"\n",
    "        },\n",
    "        \"timeDelta\": {\n",
    "          \"type\": \"float\",\n",
    "          \"time_series_metric\": \"gauge\"\n",
    "        },\n",
    "        \"@timestamp\": {\n",
    "          \"type\": \"date\"\n",
    "        },\n",
    "        \"location\": {\n",
    "          \"type\": \"geo_point\"\n",
    "        }\n",
    "      }\n",
    "    }\n",
    "  }\n",
    "\n",
    "mappingsMeta = {\n",
    "    \"description\": \"Mappings for Equilab data\"\n",
    "  }\n"
   ]
  },
  {
   "cell_type": "code",
   "execution_count": 56,
   "id": "016709ee-93f4-493e-853d-e35b70a7d95e",
   "metadata": {
    "tags": []
   },
   "outputs": [
    {
     "data": {
      "text/plain": [
       "ObjectApiResponse({'acknowledged': True})"
      ]
     },
     "execution_count": 56,
     "metadata": {},
     "output_type": "execute_result"
    }
   ],
   "source": [
    "ClusterClient.put_component_template(elastic, name='equilab-mappings', template=mappings, meta=mappingsMeta)\n"
   ]
  },
  {
   "cell_type": "markdown",
   "id": "181a8acc-8c6d-4400-88df-5874dcf3e6f2",
   "metadata": {},
   "source": [
    "## Settings Component Template"
   ]
  },
  {
   "cell_type": "code",
   "execution_count": 49,
   "id": "a4cac101-71ff-4fc5-a239-cfced732ad77",
   "metadata": {
    "tags": []
   },
   "outputs": [],
   "source": [
    "settings = {\n",
    "    \"settings\": {\n",
    "        \"index.lifecycle.name\": \"equilab-dev\",\n",
    "        \"index.look_ahead_time\": \"3h\"\n",
    "    }\n",
    "}\n",
    "\n",
    "settingsMeta = {\n",
    "    \"description\": \"Settings for Equilab data\"\n",
    "}\n"
   ]
  },
  {
   "cell_type": "code",
   "execution_count": 50,
   "id": "8eb7dfe4-9798-4d93-87f2-6f4ee4f0b476",
   "metadata": {
    "tags": []
   },
   "outputs": [
    {
     "data": {
      "text/plain": [
       "ObjectApiResponse({'acknowledged': True})"
      ]
     },
     "execution_count": 50,
     "metadata": {},
     "output_type": "execute_result"
    }
   ],
   "source": [
    "ClusterClient.put_component_template(elastic, name='equilab-settings', template=settings, meta=settingsMeta)\n"
   ]
  },
  {
   "cell_type": "markdown",
   "id": "c11fc0e8-c470-4404-b4ac-81c8c9c45ad0",
   "metadata": {},
   "source": [
    "## Index Template\n",
    "\n",
    "The Index Template brings it all together, we set the mode to `time_series` and also give a routing path based on the rideName, which will tell Elastic to keep the data for rides on the same node."
   ]
  },
  {
   "cell_type": "code",
   "execution_count": 51,
   "id": "80ce9eb0-57d2-4ee9-aec9-b52fc17e0814",
   "metadata": {
    "tags": []
   },
   "outputs": [],
   "source": [
    "templateSettings = {\n",
    "    \"settings\": {\n",
    "        \"index.mode\": \"time_series\",\n",
    "        \"index.routing_path\": [ \"rideName\" ]\n",
    "    }\n",
    "}\n",
    "    \n",
    "templateMeta = {\n",
    "    \"description\": \"Template for my Equilab data\"\n",
    "}\n"
   ]
  },
  {
   "cell_type": "code",
   "execution_count": 52,
   "id": "015774ec-80f5-4d06-83e5-ceab2bef4ce0",
   "metadata": {
    "tags": []
   },
   "outputs": [
    {
     "data": {
      "text/plain": [
       "ObjectApiResponse({'acknowledged': True})"
      ]
     },
     "execution_count": 52,
     "metadata": {},
     "output_type": "execute_result"
    }
   ],
   "source": [
    "IndicesClient.put_index_template(\n",
    "    elastic,\n",
    "    name='equilab-index-template', \n",
    "    index_patterns = [\"equilab-rides-*\"],\n",
    "    template = templateSettings,\n",
    "    composed_of = [ \"equilab-mappings\", \"equilab-settings\" ],\n",
    "    priority = 500,\n",
    "    meta = templateMeta\n",
    ")\n"
   ]
  },
  {
   "cell_type": "code",
   "execution_count": null,
   "id": "cd47de83-1b1d-4b13-8616-c399c22cba34",
   "metadata": {},
   "outputs": [],
   "source": []
  }
 ],
 "metadata": {
  "kernelspec": {
   "display_name": "Python 3 (ipykernel)",
   "language": "python",
   "name": "python3"
  },
  "language_info": {
   "codemirror_mode": {
    "name": "ipython",
    "version": 3
   },
   "file_extension": ".py",
   "mimetype": "text/x-python",
   "name": "python",
   "nbconvert_exporter": "python",
   "pygments_lexer": "ipython3",
   "version": "3.11.6"
  }
 },
 "nbformat": 4,
 "nbformat_minor": 5
}
