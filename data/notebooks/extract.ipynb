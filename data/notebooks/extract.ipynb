{
 "cells": [
  {
   "cell_type": "code",
   "execution_count": 3,
   "id": "aa772856-2349-48ed-9e3c-74e1b751f53d",
   "metadata": {
    "tags": []
   },
   "outputs": [
    {
     "name": "stdout",
     "output_type": "stream",
     "text": [
      "Collecting boto3\n",
      "  Downloading boto3-1.28.70-py3-none-any.whl.metadata (6.7 kB)\n",
      "Collecting botocore<1.32.0,>=1.31.70 (from boto3)\n",
      "  Downloading botocore-1.31.70-py3-none-any.whl.metadata (6.1 kB)\n",
      "Collecting jmespath<2.0.0,>=0.7.1 (from boto3)\n",
      "  Downloading jmespath-1.0.1-py3-none-any.whl (20 kB)\n",
      "Collecting s3transfer<0.8.0,>=0.7.0 (from boto3)\n",
      "  Downloading s3transfer-0.7.0-py3-none-any.whl.metadata (1.8 kB)\n",
      "Requirement already satisfied: python-dateutil<3.0.0,>=2.1 in /opt/conda/lib/python3.11/site-packages (from botocore<1.32.0,>=1.31.70->boto3) (2.8.2)\n",
      "Requirement already satisfied: urllib3<2.1,>=1.25.4 in /opt/conda/lib/python3.11/site-packages (from botocore<1.32.0,>=1.31.70->boto3) (2.0.7)\n",
      "Requirement already satisfied: six>=1.5 in /opt/conda/lib/python3.11/site-packages (from python-dateutil<3.0.0,>=2.1->botocore<1.32.0,>=1.31.70->boto3) (1.16.0)\n",
      "Downloading boto3-1.28.70-py3-none-any.whl (135 kB)\n",
      "\u001b[2K   \u001b[90m━━━━━━━━━━━━━━━━━━━━━━━━━━━━━━━━━━━━━━━━\u001b[0m \u001b[32m135.8/135.8 kB\u001b[0m \u001b[31m2.2 MB/s\u001b[0m eta \u001b[36m0:00:00\u001b[0m \u001b[36m0:00:01\u001b[0m\n",
      "\u001b[?25hDownloading botocore-1.31.70-py3-none-any.whl (11.3 MB)\n",
      "\u001b[2K   \u001b[90m━━━━━━━━━━━━━━━━━━━━━━━━━━━━━━━━━━━━━━━━\u001b[0m \u001b[32m11.3/11.3 MB\u001b[0m \u001b[31m7.2 MB/s\u001b[0m eta \u001b[36m0:00:00\u001b[0m00:01\u001b[0m00:01\u001b[0m\n",
      "\u001b[?25hDownloading s3transfer-0.7.0-py3-none-any.whl (79 kB)\n",
      "\u001b[2K   \u001b[90m━━━━━━━━━━━━━━━━━━━━━━━━━━━━━━━━━━━━━━━━\u001b[0m \u001b[32m79.8/79.8 kB\u001b[0m \u001b[31m3.1 MB/s\u001b[0m eta \u001b[36m0:00:00\u001b[0m\n",
      "\u001b[?25hInstalling collected packages: jmespath, botocore, s3transfer, boto3\n",
      "Successfully installed boto3-1.28.70 botocore-1.31.70 jmespath-1.0.1 s3transfer-0.7.0\n"
     ]
    }
   ],
   "source": [
    "!pip install boto3"
   ]
  },
  {
   "cell_type": "code",
   "execution_count": 16,
   "id": "6d735432-4309-4951-82f0-6717aa167671",
   "metadata": {
    "tags": []
   },
   "outputs": [],
   "source": [
    "import gpxpy\n",
    "import boto3, botocore\n",
    "import yaml\n",
    "\n",
    "with open(\"secrets.yml\", 'r') as ymlfile:\n",
    "    cfg = yaml.safe_load(ymlfile)"
   ]
  },
  {
   "cell_type": "code",
   "execution_count": 17,
   "id": "af9a2801-726f-46ba-8c68-b4417b733108",
   "metadata": {
    "tags": []
   },
   "outputs": [],
   "source": [
    "session = boto3.session.Session()\n",
    "client = session.client('s3',\n",
    "                        config=botocore.config.Config(s3={'addressing_style': 'virtual'}),\n",
    "                        region_name='nyc3',\n",
    "                        endpoint_url=cfg['spaces']['url'],\n",
    "                        aws_access_key_id=cfg['spaces']['access'],\n",
    "                        aws_secret_access_key=cfg['spaces']['secret'])\n"
   ]
  },
  {
   "cell_type": "code",
   "execution_count": 21,
   "id": "42502f04-d4d0-4f99-a381-1f30a5ea0d14",
   "metadata": {
    "tags": [
     "parameters"
    ]
   },
   "outputs": [
    {
     "name": "stdout",
     "output_type": "stream",
     "text": [
      "raw/sources/equilab/\n",
      "raw/sources/equilab/training-2023-09-09.gpx\n",
      "raw/sources/equilab/training-2023-09-10.gpx\n",
      "raw/sources/equilab/training-2023-09-23.gpx\n",
      "raw/sources/equilab/training-2023-10-14.gpx\n",
      "raw/sources/equilab/training-2023-10-22.gpx\n"
     ]
    }
   ],
   "source": [
    "objects = client.list_objects(Bucket='wrathalake', Prefix='raw/sources/equilab/')\n"
   ]
  },
  {
   "cell_type": "code",
   "execution_count": 22,
   "id": "a4f28c12-8ae6-42f6-aeb6-6307dc62a489",
   "metadata": {
    "tags": []
   },
   "outputs": [
    {
     "name": "stdout",
     "output_type": "stream",
     "text": [
      "raw/sources/equilab/training-2023-09-09.gpx\n",
      "raw/sources/equilab/training-2023-09-10.gpx\n",
      "raw/sources/equilab/training-2023-09-23.gpx\n",
      "raw/sources/equilab/training-2023-10-14.gpx\n",
      "raw/sources/equilab/training-2023-10-22.gpx\n"
     ]
    }
   ],
   "source": [
    "for obj in response['Contents']:\n",
    "    key = obj['Key']\n",
    "    if key.endswith('.gpx'):\n",
    "        print(key)\n"
   ]
  },
  {
   "cell_type": "code",
   "execution_count": 5,
   "id": "ebd0a3e3-bdff-4516-9996-2d929541c274",
   "metadata": {},
   "outputs": [],
   "source": [
    "os.makedirs(os.path.dirname(fileName), exist_ok=True)\n",
    "\n",
    "with open(fileName, 'w', encoding='utf-8') as f:\n",
    "    json.dump(joke, f, ensure_ascii=False, indent=4)\n"
   ]
  },
  {
   "cell_type": "code",
   "execution_count": null,
   "id": "1727ce73-f778-403c-9a74-4f5af0eed217",
   "metadata": {},
   "outputs": [],
   "source": []
  }
 ],
 "metadata": {
  "kernelspec": {
   "display_name": "Python 3 (ipykernel)",
   "language": "python",
   "name": "python3"
  },
  "language_info": {
   "codemirror_mode": {
    "name": "ipython",
    "version": 3
   },
   "file_extension": ".py",
   "mimetype": "text/x-python",
   "name": "python",
   "nbconvert_exporter": "python",
   "pygments_lexer": "ipython3",
   "version": "3.11.6"
  }
 },
 "nbformat": 4,
 "nbformat_minor": 5
}
