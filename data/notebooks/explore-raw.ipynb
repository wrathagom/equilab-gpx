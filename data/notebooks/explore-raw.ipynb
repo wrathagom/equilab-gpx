{
 "cells": [
  {
   "cell_type": "code",
   "execution_count": 1,
   "id": "8839f642-5e78-4f49-830d-03efe1097e0c",
   "metadata": {
    "tags": []
   },
   "outputs": [
    {
     "name": "stdout",
     "output_type": "stream",
     "text": [
      "Collecting gpxpy\n",
      "  Downloading gpxpy-1.6.0-py3-none-any.whl.metadata (5.9 kB)\n",
      "Downloading gpxpy-1.6.0-py3-none-any.whl (42 kB)\n",
      "\u001b[2K   \u001b[90m━━━━━━━━━━━━━━━━━━━━━━━━━━━━━━━━━━━━━━━━\u001b[0m \u001b[32m42.6/42.6 kB\u001b[0m \u001b[31m601.1 kB/s\u001b[0m eta \u001b[36m0:00:00\u001b[0m\u001b[36m0:00:01\u001b[0m\n",
      "\u001b[?25hInstalling collected packages: gpxpy\n",
      "Successfully installed gpxpy-1.6.0\n"
     ]
    }
   ],
   "source": [
    "!pip install gpxpy"
   ]
  },
  {
   "cell_type": "code",
   "execution_count": 36,
   "id": "cecb6c8a-777e-4804-9a57-2b050fc16993",
   "metadata": {
    "tags": []
   },
   "outputs": [
    {
     "name": "stdout",
     "output_type": "stream",
     "text": [
      "Collecting geopy\n",
      "  Downloading geopy-2.4.0-py3-none-any.whl.metadata (6.8 kB)\n",
      "Collecting geographiclib<3,>=1.52 (from geopy)\n",
      "  Downloading geographiclib-2.0-py3-none-any.whl (40 kB)\n",
      "\u001b[2K     \u001b[90m━━━━━━━━━━━━━━━━━━━━━━━━━━━━━━━━━━━━━━━\u001b[0m \u001b[32m40.3/40.3 kB\u001b[0m \u001b[31m615.4 kB/s\u001b[0m eta \u001b[36m0:00:00\u001b[0m \u001b[36m0:00:01\u001b[0m\n",
      "\u001b[?25hDownloading geopy-2.4.0-py3-none-any.whl (125 kB)\n",
      "\u001b[2K   \u001b[90m━━━━━━━━━━━━━━━━━━━━━━━━━━━━━━━━━━━━━━━━\u001b[0m \u001b[32m125.4/125.4 kB\u001b[0m \u001b[31m1.5 MB/s\u001b[0m eta \u001b[36m0:00:00\u001b[0m00:01\u001b[0m0:01\u001b[0m\n",
      "\u001b[?25hInstalling collected packages: geographiclib, geopy\n",
      "Successfully installed geographiclib-2.0 geopy-2.4.0\n"
     ]
    }
   ],
   "source": [
    "!pip install geopy"
   ]
  },
  {
   "cell_type": "code",
   "execution_count": 80,
   "id": "8a465341-3943-4943-84c3-38ad6f6a19e7",
   "metadata": {
    "tags": []
   },
   "outputs": [],
   "source": [
    "import gpxpy\n",
    "import geopy\n"
   ]
  },
  {
   "cell_type": "code",
   "execution_count": 4,
   "id": "a08554ef-f705-4886-b246-37061ba7e816",
   "metadata": {
    "tags": []
   },
   "outputs": [],
   "source": [
    "gpx_file = open('../data/raw/training-2023-10-14.gpx', 'r')\n",
    "\n",
    "gpx = gpxpy.parse(gpx_file)"
   ]
  },
  {
   "cell_type": "code",
   "execution_count": 39,
   "id": "4c558f61-ff02-4da2-a30a-7acaa3329ffd",
   "metadata": {
    "tags": []
   },
   "outputs": [],
   "source": [
    "points = gpx.tracks[0].segments[0].points\n"
   ]
  },
  {
   "cell_type": "code",
   "execution_count": 94,
   "id": "8da8329a-fae0-4b06-91cf-37a8f9478100",
   "metadata": {
    "tags": []
   },
   "outputs": [],
   "source": [
    "data = [{\n",
    "    'time': point.time,\n",
    "    'coords': (point.latitude, point.longitude),\n",
    "    'elevation': point.elevation * 3.28084\n",
    "} for point in gpx.tracks[0].segments[0].points]"
   ]
  },
  {
   "cell_type": "code",
   "execution_count": 95,
   "id": "0d7aafbd-2794-43e5-ae8f-0cc6872fc482",
   "metadata": {
    "tags": []
   },
   "outputs": [],
   "source": [
    "prv = nxt = None\n",
    "l = len(data)\n",
    "\n",
    "for index, obj in enumerate(data):\n",
    "    if index > 0:\n",
    "        prv = data[index - 1]\n",
    "        \n",
    "    if index < (l - 1):\n",
    "        nxt = data[index + 1]\n",
    "        \n",
    "    if prv is not None:\n",
    "        timeDelta = (obj['time'] - prv['time']).total_seconds()\n",
    "        distance = geopy.distance.geodesic(obj['coords'], prv['coords']).ft\n",
    "        speed = (distance / timeDelta) * 0.681818182\n",
    "        \n",
    "        obj['timeDelta'] = timeDelta\n",
    "        obj['distance'] = distance\n",
    "        obj['speed'] = speed\n",
    "        obj['climb'] = (obj['elevation'] - prv['elevation']) if obj['elevation'] > prv['elevation'] else None\n",
    "        obj['drop'] = (prv['elevation'] - obj['elevation']) if obj['elevation'] < prv['elevation'] else None\n"
   ]
  },
  {
   "cell_type": "code",
   "execution_count": 96,
   "id": "4f48b6c6-8063-47bf-aed4-b77297297880",
   "metadata": {
    "tags": []
   },
   "outputs": [
    {
     "data": {
      "text/plain": [
       "[{'time': datetime.datetime(2023, 10, 14, 19, 0, 28, 999000, tzinfo=SimpleTZ({self.tzname(None}!r)),\n",
       "  'coords': (38.0313838, -85.2440774),\n",
       "  'elevation': 742.782176},\n",
       " {'time': datetime.datetime(2023, 10, 14, 19, 0, 29, 999000, tzinfo=SimpleTZ({self.tzname(None}!r)),\n",
       "  'coords': (38.0313764, -85.244086),\n",
       "  'elevation': 742.4540920000001,\n",
       "  'timeDelta': 1.0,\n",
       "  'distance': 3.6603698479026927,\n",
       "  'speed': 2.4957067151446304,\n",
       "  'climb': None,\n",
       "  'drop': 0.32808399999998983},\n",
       " {'time': datetime.datetime(2023, 10, 14, 19, 0, 30, 999000, tzinfo=SimpleTZ({self.tzname(None}!r)),\n",
       "  'coords': (38.0313688, -85.2440954),\n",
       "  'elevation': 741.797924,\n",
       "  'timeDelta': 1.0,\n",
       "  'distance': 3.8718072576131353,\n",
       "  'speed': 2.6398685854401935,\n",
       "  'climb': None,\n",
       "  'drop': 0.6561680000000933},\n",
       " {'time': datetime.datetime(2023, 10, 14, 19, 0, 31, 999000, tzinfo=SimpleTZ({self.tzname(None}!r)),\n",
       "  'coords': (38.0313605, -85.2441048),\n",
       "  'elevation': 741.141756,\n",
       "  'timeDelta': 1.0,\n",
       "  'distance': 4.057942767384274,\n",
       "  'speed': 2.7667791603179945,\n",
       "  'climb': None,\n",
       "  'drop': 0.6561679999999797},\n",
       " {'time': datetime.datetime(2023, 10, 14, 19, 0, 32, 999000, tzinfo=SimpleTZ({self.tzname(None}!r)),\n",
       "  'coords': (38.0313521, -85.2441134),\n",
       "  'elevation': 740.813672,\n",
       "  'timeDelta': 1.0,\n",
       "  'distance': 3.9361949286960924,\n",
       "  'speed': 2.6837692702811893,\n",
       "  'climb': None,\n",
       "  'drop': 0.32808399999998983},\n",
       " {'time': datetime.datetime(2023, 10, 14, 19, 0, 33, 999000, tzinfo=SimpleTZ({self.tzname(None}!r)),\n",
       "  'coords': (38.0313399, -85.2441185),\n",
       "  'elevation': 737.532832,\n",
       "  'timeDelta': 1.0,\n",
       "  'distance': 4.679362462553708,\n",
       "  'speed': 3.190474407137412,\n",
       "  'climb': None,\n",
       "  'drop': 3.280840000000012},\n",
       " {'time': datetime.datetime(2023, 10, 14, 19, 0, 34, 999000, tzinfo=SimpleTZ({self.tzname(None}!r)),\n",
       "  'coords': (38.0313212, -85.2441345),\n",
       "  'elevation': 739.173252,\n",
       "  'timeDelta': 1.0,\n",
       "  'distance': 8.222772428629003,\n",
       "  'speed': 5.606435748287552,\n",
       "  'climb': 1.6404200000000628,\n",
       "  'drop': None},\n",
       " {'time': datetime.datetime(2023, 10, 14, 19, 0, 35, 999000, tzinfo=SimpleTZ({self.tzname(None}!r)),\n",
       "  'coords': (38.0313131, -85.2441449),\n",
       "  'elevation': 739.501336,\n",
       "  'timeDelta': 1.0,\n",
       "  'distance': 4.204128619770497,\n",
       "  'speed': 2.8664513324260894,\n",
       "  'climb': 0.32808399999998983,\n",
       "  'drop': None},\n",
       " {'time': datetime.datetime(2023, 10, 14, 19, 0, 36, 999000, tzinfo=SimpleTZ({self.tzname(None}!r)),\n",
       "  'coords': (38.0313127, -85.2441493),\n",
       "  'elevation': 742.126008,\n",
       "  'timeDelta': 1.0,\n",
       "  'distance': 1.2757268454003852,\n",
       "  'speed': 0.8698137584594857,\n",
       "  'climb': 2.6246719999999186,\n",
       "  'drop': None},\n",
       " {'time': datetime.datetime(2023, 10, 14, 19, 0, 37, 999000, tzinfo=SimpleTZ({self.tzname(None}!r)),\n",
       "  'coords': (38.0313134, -85.2441504),\n",
       "  'elevation': 740.813672,\n",
       "  'timeDelta': 1.0,\n",
       "  'distance': 0.40666042262750773,\n",
       "  'speed': 0.277268470047239,\n",
       "  'climb': None,\n",
       "  'drop': 1.3123359999999593},\n",
       " {'time': datetime.datetime(2023, 10, 14, 19, 0, 38, 999000, tzinfo=SimpleTZ({self.tzname(None}!r)),\n",
       "  'coords': (38.0313136, -85.2441507),\n",
       "  'elevation': 741.797924,\n",
       "  'timeDelta': 1.0,\n",
       "  'distance': 0.11301206332054989,\n",
       "  'speed': 0.0770536795572862,\n",
       "  'climb': 0.9842519999999695,\n",
       "  'drop': None},\n",
       " {'time': datetime.datetime(2023, 10, 14, 19, 0, 39, 999000, tzinfo=SimpleTZ({self.tzname(None}!r)),\n",
       "  'coords': (38.0313126, -85.2441521),\n",
       "  'elevation': 742.782176,\n",
       "  'timeDelta': 1.0,\n",
       "  'distance': 0.5433529428191782,\n",
       "  'speed': 0.37046791565732207,\n",
       "  'climb': 0.9842520000000832,\n",
       "  'drop': None},\n",
       " {'time': datetime.datetime(2023, 10, 14, 19, 0, 40, 999000, tzinfo=SimpleTZ({self.tzname(None}!r)),\n",
       "  'coords': (38.0313077, -85.2441548),\n",
       "  'elevation': 742.782176,\n",
       "  'timeDelta': 1.0,\n",
       "  'distance': 1.9465164368672965,\n",
       "  'speed': 1.3271702982179778,\n",
       "  'climb': None,\n",
       "  'drop': None},\n",
       " {'time': datetime.datetime(2023, 10, 14, 19, 0, 41, 999000, tzinfo=SimpleTZ({self.tzname(None}!r)),\n",
       "  'coords': (38.0312925, -85.244164),\n",
       "  'elevation': 742.126008,\n",
       "  'timeDelta': 1.0,\n",
       "  'distance': 6.13692231157845,\n",
       "  'speed': 4.184265213555657,\n",
       "  'climb': None,\n",
       "  'drop': 0.6561680000000933},\n",
       " {'time': datetime.datetime(2023, 10, 14, 19, 0, 42, 999000, tzinfo=SimpleTZ({self.tzname(None}!r)),\n",
       "  'coords': (38.031273, -85.244175),\n",
       "  'elevation': 740.813672,\n",
       "  'timeDelta': 1.0,\n",
       "  'distance': 7.775991386556198,\n",
       "  'speed': 5.301812310429406,\n",
       "  'climb': None,\n",
       "  'drop': 1.3123359999999593}]"
      ]
     },
     "execution_count": 96,
     "metadata": {},
     "output_type": "execute_result"
    }
   ],
   "source": [
    "data[:15]"
   ]
  },
  {
   "cell_type": "code",
   "execution_count": null,
   "id": "2721d37a-187c-4938-869a-0a439f558152",
   "metadata": {},
   "outputs": [],
   "source": []
  }
 ],
 "metadata": {
  "kernelspec": {
   "display_name": "Python 3 (ipykernel)",
   "language": "python",
   "name": "python3"
  },
  "language_info": {
   "codemirror_mode": {
    "name": "ipython",
    "version": 3
   },
   "file_extension": ".py",
   "mimetype": "text/x-python",
   "name": "python",
   "nbconvert_exporter": "python",
   "pygments_lexer": "ipython3",
   "version": "3.11.6"
  }
 },
 "nbformat": 4,
 "nbformat_minor": 5
}
